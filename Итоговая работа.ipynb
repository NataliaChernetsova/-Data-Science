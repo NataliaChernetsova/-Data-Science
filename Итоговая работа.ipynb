{
 "cells": [
  {
   "cell_type": "code",
   "execution_count": 135,
   "metadata": {},
   "outputs": [],
   "source": [
    "import matplotlib.pyplot as plt\n",
    "import numpy as np\n",
    "from itertools import chain\n",
    "import math\n",
    "from scipy.misc import derivative\n",
    "from sklearn.decomposition import TruncatedSVD\n",
    "from scipy.optimize import differential_evolution\n",
    "import random\n",
    "import statistics\n",
    "\n",
    "from scipy.optimize import minimize\n",
    "%matplotlib inline"
   ]
  },
  {
   "cell_type": "markdown",
   "metadata": {},
   "source": [
    "Задание 1\n",
    "Дана матрица рейтингов фильмов (строки - пользователи (10 человек), столбцы - фильмы (15 фильмов))\n",
    "\n",
    "* a) Необходимо найти наиболее похожего пользователя по косинусной метрике для каждого из (ответ: 10 пар вида (x, y), где y - наиболее похожий пользователь на пользователя x).\n",
    "\n",
    "* b) Предположим, вы захотели сжать признаковые описания пользователя с 15 фильмов, до, скажем, 5-ти признаков, как вы это сделаете?"
   ]
  },
  {
   "cell_type": "code",
   "execution_count": 17,
   "metadata": {},
   "outputs": [],
   "source": [
    "raitings = np.array([[ 4,  4,  9,  4,  1,  6, 10,  7,  9,  6,  9,  2,  8,  6,  6],\n",
    "                     [ 9,  2,  5, 10,  7,  8, 10,  5,  6,  2,  1,  6,  8,  9,  7],\n",
    "                     [ 1,  6,  8,  8,  4,  9,  3,  8, 10,  5,  2,  6,  8,  1,  6],\n",
    "                     [ 6,  1,  9,  7,  7,  9,  2,  3,  5,  1,  6,  6,  3,  2,  7],\n",
    "                     [ 3,  7,  3,  5,  7,  9,  9,  6,  2,  9,  1,  2,  8, 10,  6],\n",
    "                     [ 8,  3,  7,  3,  8,  6,  1,  8,  8,  6,  1,  9,  4, 10,  1],\n",
    "                     [ 9,  8,  4,  8,  8, 10,  6,  1,  1,  2,  9,  5,  2,  7,  2],\n",
    "                     [ 4,  1,  6,  4,  3, 10,  4,  4,  2,  8,  7,  9,  3,  8,  3],\n",
    "                     [ 2,  7,  7,  6, 10,  6,  8,  9,  8,  6, 10,  1,  7, 10,  4],\n",
    "                     [ 5, 10,  8,  8,  9,  7,  2,  9,  9, 10,  8,  8,  8,  6, 10]])"
   ]
  },
  {
   "cell_type": "code",
   "execution_count": 18,
   "metadata": {},
   "outputs": [],
   "source": [
    "#Скалярное произведение векторов\n",
    "#np.dot(x,y)/math.sqrt(np.dot(x,x)*np.dot(y,y))\n",
    "def Cosine (A, B):\n",
    "    return np.dot(A, B) / math.sqrt(np.dot(A,A)) / math.sqrt(np.dot(B,B))"
   ]
  },
  {
   "cell_type": "code",
   "execution_count": 55,
   "metadata": {},
   "outputs": [],
   "source": [
    "def best_pair(raitings):\n",
    "    for i in range(len(raitings)):\n",
    "        similarity=0.9\n",
    "        con = chain(range(i), range(i+1, len(raitings)))\n",
    "        for j in con:\n",
    "            if (Cosine(raitings[i],raitings[j])<=similarity or Cosine(raitings[j],raitings[i])<=similarity): \n",
    "                similarity=min(Cosine(raitings[i],raitings[j]),Cosine(raitings[j],raitings[i]))\n",
    "                best_pair=j\n",
    "        print(i,' пользователь', 'наиболее похож на ',  best_pair, ' сходство - ', '%.3f' % similarity)"
   ]
  },
  {
   "cell_type": "code",
   "execution_count": 56,
   "metadata": {},
   "outputs": [
    {
     "name": "stdout",
     "output_type": "stream",
     "text": [
      "0  пользователь наиболее похож на  6  сходство -  0.727\n",
      "1  пользователь наиболее похож на  7  сходство -  0.800\n",
      "2  пользователь наиболее похож на  6  сходство -  0.676\n",
      "3  пользователь наиболее похож на  4  сходство -  0.692\n",
      "4  пользователь наиболее похож на  3  сходство -  0.692\n",
      "5  пользователь наиболее похож на  6  сходство -  0.740\n",
      "6  пользователь наиболее похож на  2  сходство -  0.676\n",
      "7  пользователь наиболее похож на  2  сходство -  0.763\n",
      "8  пользователь наиболее похож на  3  сходство -  0.777\n",
      "9  пользователь наиболее похож на  6  сходство -  0.792\n"
     ]
    }
   ],
   "source": [
    "best_pair(raitings)"
   ]
  },
  {
   "cell_type": "code",
   "execution_count": 72,
   "metadata": {},
   "outputs": [],
   "source": [
    "def func_svd(raitings,i):\n",
    "    svd = TruncatedSVD(n_components=i)\n",
    "    raitings_reduced = svd.fit_transform(raitings)\n",
    "    return raitings_reduced"
   ]
  },
  {
   "cell_type": "code",
   "execution_count": 75,
   "metadata": {},
   "outputs": [
    {
     "name": "stdout",
     "output_type": "stream",
     "text": [
      "0  пользователь наиболее похож на  5  сходство -  0.754\n",
      "1  пользователь наиболее похож на  9  сходство -  0.834\n",
      "2  пользователь наиболее похож на  6  сходство -  0.678\n",
      "3  пользователь наиболее похож на  4  сходство -  0.711\n",
      "4  пользователь наиболее похож на  3  сходство -  0.711\n",
      "5  пользователь наиболее похож на  0  сходство -  0.754\n",
      "6  пользователь наиболее похож на  2  сходство -  0.678\n",
      "7  пользователь наиболее похож на  2  сходство -  0.825\n",
      "8  пользователь наиболее похож на  3  сходство -  0.790\n",
      "9  пользователь наиболее похож на  6  сходство -  0.803\n"
     ]
    }
   ],
   "source": [
    "raitings_5=func_svd(raitings,5)\n",
    "best_pair(raitings_5)  "
   ]
  },
  {
   "cell_type": "markdown",
   "metadata": {},
   "source": [
    "Вывод: Cжатие признаковых описаний пользователя с 15 фильмов до 5-ти признаков, сохранило схожесть почти всех пользователей(7 из 10)"
   ]
  },
  {
   "cell_type": "markdown",
   "metadata": {},
   "source": [
    "Задание 2\n",
    "\n",
    "Вычислите производную $tg^2(sin(x) + cos(2x+3))$ в точке $x_0=1$ (на python и на бумаге)."
   ]
  },
  {
   "cell_type": "markdown",
   "metadata": {},
   "source": [
    " $2⋅tan(sin(x)+cos(2⋅x+3))⋅(cos(x)−2⋅sin(2⋅x+3))⋅cos−2(sin(x)+cos(2⋅x+3))$"
   ]
  },
  {
   "cell_type": "code",
   "execution_count": 82,
   "metadata": {},
   "outputs": [
    {
     "name": "stdout",
     "output_type": "stream",
     "text": [
      "Значение первой производной функции: 55.3859176464222\n"
     ]
    }
   ],
   "source": [
    "def f(x):\n",
    "    return np.tan((np.sin(x) + np.cos(2*x +3)))**2\n",
    "print(f'Значение первой производной функции: {derivative(f, dx = 1e-6, x0=1.0, n=1)}')"
   ]
  },
  {
   "cell_type": "markdown",
   "metadata": {},
   "source": [
    "Задание 3\n",
    "\n",
    "Дана функция с неизвестными параметрами a и b, вам также известны значения функции fx в точках x. Найдите оптимальные параметры a, b, минимизирующие абсолютную ошибку error."
   ]
  },
  {
   "cell_type": "code",
   "execution_count": 91,
   "metadata": {},
   "outputs": [],
   "source": [
    "def f(x, a, b):\n",
    "    return np.e**a * np.sin(b*x) + x"
   ]
  },
  {
   "cell_type": "code",
   "execution_count": 92,
   "metadata": {},
   "outputs": [],
   "source": [
    "x = np.array([0.        , 0.26315789, 0.52631579, 0.78947368, 1.05263158,\n",
    "              1.31578947, 1.57894737, 1.84210526, 2.10526316, 2.36842105,\n",
    "              2.63157895, 2.89473684, 3.15789474, 3.42105263, 3.68421053,\n",
    "              3.94736842, 4.21052632, 4.47368421, 4.73684211, 5.        ])"
   ]
  },
  {
   "cell_type": "code",
   "execution_count": 93,
   "metadata": {},
   "outputs": [],
   "source": [
    "fx = np.array([  0.        , -12.01819092, -18.90968634, -17.68786571,\n",
    "                -8.7529108 ,   4.27524517,  16.06801336,  21.81250213,\n",
    "                19.22059845,   9.48411207,  -3.22273056, -13.48576488,\n",
    "               -16.91096359, -11.95866834,  -0.58630088,  12.56873816,\n",
    "                22.12489421,  24.20292139,  18.04522521,   6.33211092])"
   ]
  },
  {
   "cell_type": "code",
   "execution_count": 94,
   "metadata": {},
   "outputs": [
    {
     "data": {
      "image/png": "[encoded data removed]",
      "text/plain": [
       "<Figure size 432x288 with 1 Axes>"
      ]
     },
     "metadata": {
      "needs_background": "light"
     },
     "output_type": "display_data"
    }
   ],
   "source": [
    "plt.plot(x, fx)\n",
    "plt.show()"
   ]
  },
  {
   "cell_type": "code",
   "execution_count": 119,
   "metadata": {},
   "outputs": [],
   "source": [
    "def error(params):\n",
    "    error=0\n",
    "    for i in range(len(x)):\n",
    "        error=error+np.abs(fx[i] - f(x[i], params[0], params[1]))\n",
    "        return error"
   ]
  },
  {
   "cell_type": "code",
   "execution_count": 120,
   "metadata": {},
   "outputs": [
    {
     "data": {
      "text/plain": [
       "     fun: 0.0\n",
       " message: 'Optimization terminated successfully.'\n",
       "    nfev: 63\n",
       "     nit: 1\n",
       " success: True\n",
       "       x: array([-73.42075465,  69.17896657])"
      ]
     },
     "execution_count": 120,
     "metadata": {},
     "output_type": "execute_result"
    }
   ],
   "source": [
    "bounds = [(-100, 100), (-100, 100)]\n",
    "result = differential_evolution(error, bounds)\n",
    "result"
   ]
  },
  {
   "cell_type": "code",
   "execution_count": 122,
   "metadata": {},
   "outputs": [
    {
     "data": {
      "text/plain": [
       "0.0"
      ]
     },
     "execution_count": 122,
     "metadata": {},
     "output_type": "execute_result"
    }
   ],
   "source": [
    "params=[-73.42075465,  69.17896657]\n",
    "error(params)"
   ]
  },
  {
   "cell_type": "markdown",
   "metadata": {},
   "source": [
    "Задание 4\n",
    "\n",
    "Создайте собственную дискретную случайную величину с 20 значениями. Сгенерируйте 1000 выборок размера 50. Посчитайте среднее для каждой выборки. Постройте гистограмму распределения средних"
   ]
  },
  {
   "cell_type": "code",
   "execution_count": 144,
   "metadata": {},
   "outputs": [],
   "source": [
    "elements = range(20)\n",
    "probabilities = [0.05]*20\n",
    "list_means=[]\n",
    "for i in range(1000): \n",
    "    data=np.random.choice(elements, 50, p=probabilities)\n",
    "    list_means.append(statistics.mean(data))"
   ]
  },
  {
   "cell_type": "code",
   "execution_count": 145,
   "metadata": {},
   "outputs": [
    {
     "data": {
      "image/png": "[encoded data removed]",
      "text/plain": [
       "<Figure size 432x288 with 1 Axes>"
      ]
     },
     "metadata": {
      "needs_background": "light"
     },
     "output_type": "display_data"
    }
   ],
   "source": [
    "plt.hist(list_means, 5, density=True,color='purple')\n",
    "plt.show()"
   ]
  },
  {
   "cell_type": "markdown",
   "metadata": {},
   "source": [
    "Задание 5\n",
    "\n",
    "Найдите собственные значения и собственные вектора матрицы (на python):"
   ]
  },
  {
   "cell_type": "code",
   "execution_count": 146,
   "metadata": {},
   "outputs": [
    {
     "name": "stdout",
     "output_type": "stream",
     "text": [
      "[[1 4]\n",
      " [1 1]]\n"
     ]
    }
   ],
   "source": [
    "m = np.array([[1, 4],\n",
    "              [1, 1]])\n",
    "print(m)"
   ]
  },
  {
   "cell_type": "code",
   "execution_count": 147,
   "metadata": {},
   "outputs": [],
   "source": [
    "w, v = np.linalg.eig(m)"
   ]
  },
  {
   "cell_type": "code",
   "execution_count": 148,
   "metadata": {},
   "outputs": [
    {
     "name": "stdout",
     "output_type": "stream",
     "text": [
      "Собственное значение 3.0000000000000004\n",
      "Собственный вектор [0.89442719 0.4472136 ]\n",
      "Собственное значение -0.9999999999999996\n",
      "Собственный вектор [-0.89442719  0.4472136 ]\n"
     ]
    }
   ],
   "source": [
    "for i in range(len(w)):\n",
    "    print('Собственное значение ' + str(w[i]))\n",
    "    print('Собственный вектор ' + str(v[:,i]))"
   ]
  }
 ],
 "metadata": {
  "kernelspec": {
   "display_name": "Python 3",
   "language": "python",
   "name": "python3"
  },
  "language_info": {
   "codemirror_mode": {
    "name": "ipython",
    "version": 3
   },
   "file_extension": ".py",
   "mimetype": "text/x-python",
   "name": "python",
   "nbconvert_exporter": "python",
   "pygments_lexer": "ipython3",
   "version": "3.8.3"
  }
 },
 "nbformat": 4,
 "nbformat_minor": 4
}
